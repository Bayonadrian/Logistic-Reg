{
  "cells": [
    {
      "cell_type": "markdown",
      "metadata": {
        "id": "rnjUY6Ej8j5f"
      },
      "source": [
        "# Primera regresion logistica"
      ]
    },
    {
      "cell_type": "markdown",
      "metadata": {
        "id": "99ABt1w8810P"
      },
      "source": [
        "# Accessing the drive"
      ]
    },
    {
      "cell_type": "code",
      "execution_count": 1,
      "metadata": {
        "colab": {
          "base_uri": "https://localhost:8080/"
        },
        "id": "MORfM0YV7Fme",
        "outputId": "286a3e8a-013f-4621-b091-e704713d2bb4"
      },
      "outputs": [
        {
          "output_type": "stream",
          "name": "stdout",
          "text": [
            "Mounted at /content/Drive\n"
          ]
        }
      ],
      "source": [
        "from google.colab import drive\n",
        "drive.mount('/content/Drive')"
      ]
    },
    {
      "cell_type": "code",
      "execution_count": 2,
      "metadata": {
        "colab": {
          "base_uri": "https://localhost:8080/"
        },
        "id": "F4MlbtSQ9IhX",
        "outputId": "09c0c445-422e-4948-cc21-9a33bb2949de"
      },
      "outputs": [
        {
          "output_type": "stream",
          "name": "stdout",
          "text": [
            "/content/Drive/MyDrive/Colab Notebooks/MachineLearning/Models/LogisticRegression/LogisticExampleAdvanced\n",
            " Admitance.csv\t\t\t     'LogisticExampleAdvanced - 3.ipynb'\n",
            "'LogisticExampleAdvanced - 1.ipynb'   LogisticExample.ipynb\n",
            "'LogisticExampleAdvanced - 2.ipynb'   Test.csv\n"
          ]
        }
      ],
      "source": [
        "%cd '/content/Drive/MyDrive/Colab Notebooks/MachineLearning/Models/LogisticRegression/LogisticExampleAdvanced'\n",
        "!ls"
      ]
    },
    {
      "cell_type": "markdown",
      "metadata": {
        "id": "B-xZp11c9iab"
      },
      "source": [
        "# importing packages"
      ]
    },
    {
      "cell_type": "code",
      "execution_count": 3,
      "metadata": {
        "id": "QWeOsX_e9kwS"
      },
      "outputs": [],
      "source": [
        "import pandas as pd\n",
        "import numpy as np\n",
        "import statsmodels.api as sm\n",
        "import seaborn as sns\n",
        "import matplotlib.pyplot as plt\n",
        "sns.set()"
      ]
    },
    {
      "cell_type": "markdown",
      "metadata": {
        "id": "csrhZNnw90_e"
      },
      "source": [
        "# Creating DataFrame"
      ]
    },
    {
      "cell_type": "code",
      "execution_count": 4,
      "metadata": {
        "colab": {
          "base_uri": "https://localhost:8080/",
          "height": 206
        },
        "id": "Xf8Om1zO-Ag1",
        "outputId": "8b0fd608-1bdd-453a-d43d-ec61b1c6a84d"
      },
      "outputs": [
        {
          "output_type": "execute_result",
          "data": {
            "text/plain": [
              "    SAT Admitted\n",
              "0  1363       No\n",
              "1  1792      Yes\n",
              "2  1954      Yes\n",
              "3  1653       No\n",
              "4  1593       No"
            ],
            "text/html": [
              "\n",
              "  <div id=\"df-60bd003a-186b-4ed8-95a9-899bc7b030a0\">\n",
              "    <div class=\"colab-df-container\">\n",
              "      <div>\n",
              "<style scoped>\n",
              "    .dataframe tbody tr th:only-of-type {\n",
              "        vertical-align: middle;\n",
              "    }\n",
              "\n",
              "    .dataframe tbody tr th {\n",
              "        vertical-align: top;\n",
              "    }\n",
              "\n",
              "    .dataframe thead th {\n",
              "        text-align: right;\n",
              "    }\n",
              "</style>\n",
              "<table border=\"1\" class=\"dataframe\">\n",
              "  <thead>\n",
              "    <tr style=\"text-align: right;\">\n",
              "      <th></th>\n",
              "      <th>SAT</th>\n",
              "      <th>Admitted</th>\n",
              "    </tr>\n",
              "  </thead>\n",
              "  <tbody>\n",
              "    <tr>\n",
              "      <th>0</th>\n",
              "      <td>1363</td>\n",
              "      <td>No</td>\n",
              "    </tr>\n",
              "    <tr>\n",
              "      <th>1</th>\n",
              "      <td>1792</td>\n",
              "      <td>Yes</td>\n",
              "    </tr>\n",
              "    <tr>\n",
              "      <th>2</th>\n",
              "      <td>1954</td>\n",
              "      <td>Yes</td>\n",
              "    </tr>\n",
              "    <tr>\n",
              "      <th>3</th>\n",
              "      <td>1653</td>\n",
              "      <td>No</td>\n",
              "    </tr>\n",
              "    <tr>\n",
              "      <th>4</th>\n",
              "      <td>1593</td>\n",
              "      <td>No</td>\n",
              "    </tr>\n",
              "  </tbody>\n",
              "</table>\n",
              "</div>\n",
              "      <button class=\"colab-df-convert\" onclick=\"convertToInteractive('df-60bd003a-186b-4ed8-95a9-899bc7b030a0')\"\n",
              "              title=\"Convert this dataframe to an interactive table.\"\n",
              "              style=\"display:none;\">\n",
              "        \n",
              "  <svg xmlns=\"http://www.w3.org/2000/svg\" height=\"24px\"viewBox=\"0 0 24 24\"\n",
              "       width=\"24px\">\n",
              "    <path d=\"M0 0h24v24H0V0z\" fill=\"none\"/>\n",
              "    <path d=\"M18.56 5.44l.94 2.06.94-2.06 2.06-.94-2.06-.94-.94-2.06-.94 2.06-2.06.94zm-11 1L8.5 8.5l.94-2.06 2.06-.94-2.06-.94L8.5 2.5l-.94 2.06-2.06.94zm10 10l.94 2.06.94-2.06 2.06-.94-2.06-.94-.94-2.06-.94 2.06-2.06.94z\"/><path d=\"M17.41 7.96l-1.37-1.37c-.4-.4-.92-.59-1.43-.59-.52 0-1.04.2-1.43.59L10.3 9.45l-7.72 7.72c-.78.78-.78 2.05 0 2.83L4 21.41c.39.39.9.59 1.41.59.51 0 1.02-.2 1.41-.59l7.78-7.78 2.81-2.81c.8-.78.8-2.07 0-2.86zM5.41 20L4 18.59l7.72-7.72 1.47 1.35L5.41 20z\"/>\n",
              "  </svg>\n",
              "      </button>\n",
              "      \n",
              "  <style>\n",
              "    .colab-df-container {\n",
              "      display:flex;\n",
              "      flex-wrap:wrap;\n",
              "      gap: 12px;\n",
              "    }\n",
              "\n",
              "    .colab-df-convert {\n",
              "      background-color: #E8F0FE;\n",
              "      border: none;\n",
              "      border-radius: 50%;\n",
              "      cursor: pointer;\n",
              "      display: none;\n",
              "      fill: #1967D2;\n",
              "      height: 32px;\n",
              "      padding: 0 0 0 0;\n",
              "      width: 32px;\n",
              "    }\n",
              "\n",
              "    .colab-df-convert:hover {\n",
              "      background-color: #E2EBFA;\n",
              "      box-shadow: 0px 1px 2px rgba(60, 64, 67, 0.3), 0px 1px 3px 1px rgba(60, 64, 67, 0.15);\n",
              "      fill: #174EA6;\n",
              "    }\n",
              "\n",
              "    [theme=dark] .colab-df-convert {\n",
              "      background-color: #3B4455;\n",
              "      fill: #D2E3FC;\n",
              "    }\n",
              "\n",
              "    [theme=dark] .colab-df-convert:hover {\n",
              "      background-color: #434B5C;\n",
              "      box-shadow: 0px 1px 3px 1px rgba(0, 0, 0, 0.15);\n",
              "      filter: drop-shadow(0px 1px 2px rgba(0, 0, 0, 0.3));\n",
              "      fill: #FFFFFF;\n",
              "    }\n",
              "  </style>\n",
              "\n",
              "      <script>\n",
              "        const buttonEl =\n",
              "          document.querySelector('#df-60bd003a-186b-4ed8-95a9-899bc7b030a0 button.colab-df-convert');\n",
              "        buttonEl.style.display =\n",
              "          google.colab.kernel.accessAllowed ? 'block' : 'none';\n",
              "\n",
              "        async function convertToInteractive(key) {\n",
              "          const element = document.querySelector('#df-60bd003a-186b-4ed8-95a9-899bc7b030a0');\n",
              "          const dataTable =\n",
              "            await google.colab.kernel.invokeFunction('convertToInteractive',\n",
              "                                                     [key], {});\n",
              "          if (!dataTable) return;\n",
              "\n",
              "          const docLinkHtml = 'Like what you see? Visit the ' +\n",
              "            '<a target=\"_blank\" href=https://colab.research.google.com/notebooks/data_table.ipynb>data table notebook</a>'\n",
              "            + ' to learn more about interactive tables.';\n",
              "          element.innerHTML = '';\n",
              "          dataTable['output_type'] = 'display_data';\n",
              "          await google.colab.output.renderOutput(dataTable, element);\n",
              "          const docLink = document.createElement('div');\n",
              "          docLink.innerHTML = docLinkHtml;\n",
              "          element.appendChild(docLink);\n",
              "        }\n",
              "      </script>\n",
              "    </div>\n",
              "  </div>\n",
              "  "
            ]
          },
          "metadata": {},
          "execution_count": 4
        }
      ],
      "source": [
        "data = pd.read_csv('Admitance.csv')\n",
        "data.head()"
      ]
    },
    {
      "cell_type": "code",
      "execution_count": 5,
      "metadata": {
        "colab": {
          "base_uri": "https://localhost:8080/",
          "height": 206
        },
        "id": "FBJdf2Ib-Ln4",
        "outputId": "07b2dbfd-7a40-443e-aca7-c22c5accec04"
      },
      "outputs": [
        {
          "output_type": "execute_result",
          "data": {
            "text/plain": [
              "    SAT  Admitted\n",
              "0  1363         0\n",
              "1  1792         1\n",
              "2  1954         1\n",
              "3  1653         0\n",
              "4  1593         0"
            ],
            "text/html": [
              "\n",
              "  <div id=\"df-2d7db76c-d353-430c-8dbe-52b6a54c1539\">\n",
              "    <div class=\"colab-df-container\">\n",
              "      <div>\n",
              "<style scoped>\n",
              "    .dataframe tbody tr th:only-of-type {\n",
              "        vertical-align: middle;\n",
              "    }\n",
              "\n",
              "    .dataframe tbody tr th {\n",
              "        vertical-align: top;\n",
              "    }\n",
              "\n",
              "    .dataframe thead th {\n",
              "        text-align: right;\n",
              "    }\n",
              "</style>\n",
              "<table border=\"1\" class=\"dataframe\">\n",
              "  <thead>\n",
              "    <tr style=\"text-align: right;\">\n",
              "      <th></th>\n",
              "      <th>SAT</th>\n",
              "      <th>Admitted</th>\n",
              "    </tr>\n",
              "  </thead>\n",
              "  <tbody>\n",
              "    <tr>\n",
              "      <th>0</th>\n",
              "      <td>1363</td>\n",
              "      <td>0</td>\n",
              "    </tr>\n",
              "    <tr>\n",
              "      <th>1</th>\n",
              "      <td>1792</td>\n",
              "      <td>1</td>\n",
              "    </tr>\n",
              "    <tr>\n",
              "      <th>2</th>\n",
              "      <td>1954</td>\n",
              "      <td>1</td>\n",
              "    </tr>\n",
              "    <tr>\n",
              "      <th>3</th>\n",
              "      <td>1653</td>\n",
              "      <td>0</td>\n",
              "    </tr>\n",
              "    <tr>\n",
              "      <th>4</th>\n",
              "      <td>1593</td>\n",
              "      <td>0</td>\n",
              "    </tr>\n",
              "  </tbody>\n",
              "</table>\n",
              "</div>\n",
              "      <button class=\"colab-df-convert\" onclick=\"convertToInteractive('df-2d7db76c-d353-430c-8dbe-52b6a54c1539')\"\n",
              "              title=\"Convert this dataframe to an interactive table.\"\n",
              "              style=\"display:none;\">\n",
              "        \n",
              "  <svg xmlns=\"http://www.w3.org/2000/svg\" height=\"24px\"viewBox=\"0 0 24 24\"\n",
              "       width=\"24px\">\n",
              "    <path d=\"M0 0h24v24H0V0z\" fill=\"none\"/>\n",
              "    <path d=\"M18.56 5.44l.94 2.06.94-2.06 2.06-.94-2.06-.94-.94-2.06-.94 2.06-2.06.94zm-11 1L8.5 8.5l.94-2.06 2.06-.94-2.06-.94L8.5 2.5l-.94 2.06-2.06.94zm10 10l.94 2.06.94-2.06 2.06-.94-2.06-.94-.94-2.06-.94 2.06-2.06.94z\"/><path d=\"M17.41 7.96l-1.37-1.37c-.4-.4-.92-.59-1.43-.59-.52 0-1.04.2-1.43.59L10.3 9.45l-7.72 7.72c-.78.78-.78 2.05 0 2.83L4 21.41c.39.39.9.59 1.41.59.51 0 1.02-.2 1.41-.59l7.78-7.78 2.81-2.81c.8-.78.8-2.07 0-2.86zM5.41 20L4 18.59l7.72-7.72 1.47 1.35L5.41 20z\"/>\n",
              "  </svg>\n",
              "      </button>\n",
              "      \n",
              "  <style>\n",
              "    .colab-df-container {\n",
              "      display:flex;\n",
              "      flex-wrap:wrap;\n",
              "      gap: 12px;\n",
              "    }\n",
              "\n",
              "    .colab-df-convert {\n",
              "      background-color: #E8F0FE;\n",
              "      border: none;\n",
              "      border-radius: 50%;\n",
              "      cursor: pointer;\n",
              "      display: none;\n",
              "      fill: #1967D2;\n",
              "      height: 32px;\n",
              "      padding: 0 0 0 0;\n",
              "      width: 32px;\n",
              "    }\n",
              "\n",
              "    .colab-df-convert:hover {\n",
              "      background-color: #E2EBFA;\n",
              "      box-shadow: 0px 1px 2px rgba(60, 64, 67, 0.3), 0px 1px 3px 1px rgba(60, 64, 67, 0.15);\n",
              "      fill: #174EA6;\n",
              "    }\n",
              "\n",
              "    [theme=dark] .colab-df-convert {\n",
              "      background-color: #3B4455;\n",
              "      fill: #D2E3FC;\n",
              "    }\n",
              "\n",
              "    [theme=dark] .colab-df-convert:hover {\n",
              "      background-color: #434B5C;\n",
              "      box-shadow: 0px 1px 3px 1px rgba(0, 0, 0, 0.15);\n",
              "      filter: drop-shadow(0px 1px 2px rgba(0, 0, 0, 0.3));\n",
              "      fill: #FFFFFF;\n",
              "    }\n",
              "  </style>\n",
              "\n",
              "      <script>\n",
              "        const buttonEl =\n",
              "          document.querySelector('#df-2d7db76c-d353-430c-8dbe-52b6a54c1539 button.colab-df-convert');\n",
              "        buttonEl.style.display =\n",
              "          google.colab.kernel.accessAllowed ? 'block' : 'none';\n",
              "\n",
              "        async function convertToInteractive(key) {\n",
              "          const element = document.querySelector('#df-2d7db76c-d353-430c-8dbe-52b6a54c1539');\n",
              "          const dataTable =\n",
              "            await google.colab.kernel.invokeFunction('convertToInteractive',\n",
              "                                                     [key], {});\n",
              "          if (!dataTable) return;\n",
              "\n",
              "          const docLinkHtml = 'Like what you see? Visit the ' +\n",
              "            '<a target=\"_blank\" href=https://colab.research.google.com/notebooks/data_table.ipynb>data table notebook</a>'\n",
              "            + ' to learn more about interactive tables.';\n",
              "          element.innerHTML = '';\n",
              "          dataTable['output_type'] = 'display_data';\n",
              "          await google.colab.output.renderOutput(dataTable, element);\n",
              "          const docLink = document.createElement('div');\n",
              "          docLink.innerHTML = docLinkHtml;\n",
              "          element.appendChild(docLink);\n",
              "        }\n",
              "      </script>\n",
              "    </div>\n",
              "  </div>\n",
              "  "
            ]
          },
          "metadata": {},
          "execution_count": 5
        }
      ],
      "source": [
        "data['Admitted'] = data['Admitted'].map({'Yes': 1, 'No': 0})\n",
        "data.head()"
      ]
    },
    {
      "cell_type": "markdown",
      "metadata": {
        "id": "yAjKkMbQ-jJV"
      },
      "source": [
        "# regression"
      ]
    },
    {
      "cell_type": "markdown",
      "metadata": {
        "id": "2atgi2IX-mlU"
      },
      "source": [
        "## Declaring variables and starting regression"
      ]
    },
    {
      "cell_type": "code",
      "execution_count": 6,
      "metadata": {
        "colab": {
          "base_uri": "https://localhost:8080/"
        },
        "id": "_POsnu_u-pNU",
        "outputId": "cbf27741-8846-4cfd-f8b0-16238ab1b1f4"
      },
      "outputs": [
        {
          "output_type": "stream",
          "name": "stdout",
          "text": [
            "Optimization terminated successfully.\n",
            "         Current function value: 0.137766\n",
            "         Iterations 10\n"
          ]
        },
        {
          "output_type": "execute_result",
          "data": {
            "text/plain": [
              "<statsmodels.discrete.discrete_model.BinaryResultsWrapper at 0x7f6116c53850>"
            ]
          },
          "metadata": {},
          "execution_count": 6
        }
      ],
      "source": [
        "# The result means that statsmodels was able to find that a relationship exists.\n",
        "# The maximum number of iterations is 35, if at this point no relationship was found, the system stops.\n",
        "\n",
        "y = data['Admitted']\n",
        "x = data['SAT']\n",
        "\n",
        "X = sm.add_constant(x)\n",
        "logistic = sm.Logit(y, X)\n",
        "reg = logistic.fit()\n",
        "reg"
      ]
    },
    {
      "cell_type": "markdown",
      "metadata": {
        "id": "UgX-9sixAids"
      },
      "source": [
        "## Viewing the regression"
      ]
    },
    {
      "cell_type": "code",
      "execution_count": 7,
      "metadata": {
        "colab": {
          "base_uri": "https://localhost:8080/"
        },
        "id": "EU7suqJ4AeDO",
        "outputId": "60397fa4-fbfb-44a4-edb0-591ed38940bf"
      },
      "outputs": [
        {
          "output_type": "stream",
          "name": "stdout",
          "text": [
            "                           Logit Regression Results                           \n",
            "==============================================================================\n",
            "Dep. Variable:               Admitted   No. Observations:                  168\n",
            "Model:                          Logit   Df Residuals:                      166\n",
            "Method:                           MLE   Df Model:                            1\n",
            "Date:                Sun, 05 Mar 2023   Pseudo R-squ.:                  0.7992\n",
            "Time:                        05:26:31   Log-Likelihood:                -23.145\n",
            "converged:                       True   LL-Null:                       -115.26\n",
            "Covariance Type:            nonrobust   LLR p-value:                 5.805e-42\n",
            "==============================================================================\n",
            "                 coef    std err          z      P>|z|      [0.025      0.975]\n",
            "------------------------------------------------------------------------------\n",
            "const        -69.9128     15.737     -4.443      0.000    -100.756     -39.070\n",
            "SAT            0.0420      0.009      4.454      0.000       0.024       0.060\n",
            "==============================================================================\n",
            "\n",
            "Possibly complete quasi-separation: A fraction 0.27 of observations can be\n",
            "perfectly predicted. This might indicate that there is complete\n",
            "quasi-separation. In this case some parameters will not be identified.\n"
          ]
        }
      ],
      "source": [
        "print(reg.summary())"
      ]
    },
    {
      "cell_type": "markdown",
      "metadata": {
        "id": "ZlqMMCjPCTRJ"
      },
      "source": [
        "## Interpretation of statistics"
      ]
    },
    {
      "cell_type": "markdown",
      "metadata": {
        "id": "iODMwgMoDCEa"
      },
      "source": [
        "### MLE(Maximum likelihood)\n",
        "This is a model optimization algorithm.\n",
        "\n",
        "```\n",
        "Method: MLE\n",
        "```"
      ]
    },
    {
      "cell_type": "markdown",
      "metadata": {
        "id": "GGDhpzEuGoco"
      },
      "source": [
        "### Log likelihood\n",
        "This is a statistic that indicates the level of optimization of the model, this is usually negative and the higher the better, such as -3 is higher than -6.\n",
        "```\n",
        "Log Likelihood: -23.145\n",
        "```"
      ]
    },
    {
      "cell_type": "markdown",
      "metadata": {
        "id": "VX0mgd4wHZOF"
      },
      "source": [
        "### LL-Null(Log likelihood null)\n",
        "This statistic represents the **Log-likelihood** without independent variables.\n",
        "\n",
        "```\n",
        "LL-Null: -115.26\n",
        "```"
      ]
    },
    {
      "cell_type": "markdown",
      "metadata": {
        "id": "szlOGjZqJFHK"
      },
      "source": [
        "### LLR(Log likelihood - ratio) p-value\n",
        "\n",
        "This is an equivalent to the **F-score**, which indicates the significance of the model, so it is a hypothesis test:\n",
        "\n",
        "- Null hypothesis.- The model does not have any significance.\n",
        "\n",
        "- Alternative hypothesis.- The model is significant.\n",
        "\n",
        "In this case, being much less than 0.05, there is statistically relevant evidence to understand that the model is significant.\n",
        "\n",
        "```\n",
        "LLR p-value: 5.805e-42\n",
        "format(5.805e-42, '.45f')\n",
        "0.00000000000000000000000000000000000000005805\n",
        "```"
      ]
    },
    {
      "cell_type": "markdown",
      "metadata": {
        "id": "Sn_3uSatM5I9"
      },
      "source": [
        "### Pseudo R-square(McFaden's R-square)\n",
        "This statistic **has a function similar to but never the same as linear regression**. within logistic regression, there are several ways to obtain an **r-square**, there are **AIC**, **BIC** and **McFaden's R-square**, the latter being the one used by **statmodels **.\n",
        "\n",
        "Within **McFaden's R-square** it is recommended to have a score between 0.2 and 0.4 but more than anything it represents a referential value to compare with other models.\n",
        "\n",
        "```\n",
        "Pseudo R-square: 0.7992\n",
        "```"
      ]
    },
    {
      "cell_type": "markdown",
      "metadata": {
        "id": "72nORut4JnXr"
      },
      "source": [
        "## Interpretation of coefficients\n",
        "\n",
        "```\n",
        "==================================================== ============================\n",
        "                  coef\n",
        "-------------------------------------------------- ----------------------------\n",
        "const -69.9128\n",
        "SAT 0.0420\n",
        "==================================================== ============================\n",
        "```\n",
        "\n",
        "Coefficients within logistic regression work differently than coefficients within linear regression. It is easier to study these using the **sklearn** package."
      ]
    },
    {
      "cell_type": "markdown",
      "metadata": {
        "id": "C7XDUNGpGMZ2"
      },
      "source": [
        "## Stats remaining\n",
        "\n",
        "The standard error is calculated within the regression line and its purpose is to calculate the **z** value, this **z** value is the **intercept divided by the standard error**. So the **p** value is calculated using a normal distribution.\n",
        "\n",
        "```\n",
        "==================================================== ============================\n",
        "           std errz P>|z| [0.025 0.975]\n",
        "-------------------------------------------------- ----------------------------\n",
        "const 15.737 -4.443 0.000 -100.756 -39.070\n",
        "SAT 0.009 4.454 0.000 0.024 0.060\n",
        "==================================================== ============================\n",
        "```"
      ]
    },
    {
      "cell_type": "code",
      "execution_count": 8,
      "metadata": {
        "colab": {
          "base_uri": "https://localhost:8080/"
        },
        "id": "Ohit-8cHKFrR",
        "outputId": "1944164f-bb39-45b5-ffbe-b2db687427af"
      },
      "outputs": [
        {
          "output_type": "stream",
          "name": "stdout",
          "text": [
            "Intercepto: [-69.90656965]\n",
            "Coeficientes: [[0.04200113]]\n",
            "R-cuadrado: 0.9166666666666666\n"
          ]
        }
      ],
      "source": [
        "from sklearn.linear_model import LogisticRegression\n",
        "\n",
        "logistic = LogisticRegression()\n",
        "logistic.fit(data[['SAT']], data['Admitted'])\n",
        "\n",
        "print('Intercepto:', logistic.intercept_)\n",
        "print('Coeficientes:', logistic.coef_)\n",
        "print('R-cuadrado:', logistic.score(data[['SAT']], data['Admitted']))"
      ]
    },
    {
      "cell_type": "code",
      "execution_count": 9,
      "metadata": {
        "colab": {
          "base_uri": "https://localhost:8080/"
        },
        "id": "-mFMe-GeNxr0",
        "outputId": "01cd1175-932d-4c09-ef74-2972bbf9c6f9"
      },
      "outputs": [
        {
          "output_type": "execute_result",
          "data": {
            "text/plain": [
              "array([-11.56699954])"
            ]
          },
          "metadata": {},
          "execution_count": 9
        }
      ],
      "source": [
        "# The logistic regression works based on percentages, having an asymptotic line up to 1.\n",
        "# The intercept and coefficients form a linear regression.\n",
        "\n",
        "linear = logistic.intercept_ + (logistic.coef_[0]*1389)\n",
        "linear"
      ]
    },
    {
      "cell_type": "code",
      "execution_count": 10,
      "metadata": {
        "colab": {
          "base_uri": "https://localhost:8080/"
        },
        "id": "Cus-cGigM60z",
        "outputId": "9cdf6f72-ff3a-4bae-b9bf-5d8bae3c0a44"
      },
      "outputs": [
        {
          "output_type": "execute_result",
          "data": {
            "text/plain": [
              "-11.567018484317622"
            ]
          },
          "metadata": {},
          "execution_count": 10
        }
      ],
      "source": [
        "# When using logistic regression based on the exponential, the opposite is the natural logarithm.\n",
        "# The method used is the logit method so that by adding the results of log_proba we have\n",
        "# the result inside the linear regression.\n",
        "\n",
        "test = {'SAT': [1389], 'Admitted': [0]}\n",
        "\n",
        "testdf = pd.DataFrame(test)\n",
        "\n",
        "logProba = logistic.predict_log_proba(testdf[['SAT']])\n",
        "\n",
        "log = logProba[0][0] + logProba[0][1]\n",
        "log"
      ]
    },
    {
      "cell_type": "code",
      "execution_count": 11,
      "metadata": {
        "colab": {
          "base_uri": "https://localhost:8080/"
        },
        "id": "kTQHnSNKPA32",
        "outputId": "ef3e4f6b-5e31-4772-a959-5f54e2d947f1"
      },
      "outputs": [
        {
          "output_type": "execute_result",
          "data": {
            "text/plain": [
              "array([[9.99990526e-01, 9.47352956e-06]])"
            ]
          },
          "metadata": {},
          "execution_count": 11
        }
      ],
      "source": [
        "# The predict_proba method returns the probabilities of obtaining the result.\n",
        "# The second data returned is the probability and the first data is its complement.\n",
        "\n",
        "logistic.predict_proba(testdf[['SAT']])"
      ]
    },
    {
      "cell_type": "code",
      "execution_count": 12,
      "metadata": {
        "colab": {
          "base_uri": "https://localhost:8080/"
        },
        "id": "LdkmZWEmO9Rm",
        "outputId": "0b9cba60-fdf3-4abb-9977-3e4d2255ec40"
      },
      "outputs": [
        {
          "output_type": "execute_result",
          "data": {
            "text/plain": [
              "9.473439810843002e-06"
            ]
          },
          "metadata": {},
          "execution_count": 12
        }
      ],
      "source": [
        "# Note that the same result is obtained by taking the exponential of the logarithm.\n",
        "\n",
        "np.exp(log)"
      ]
    },
    {
      "cell_type": "code",
      "execution_count": 13,
      "metadata": {
        "colab": {
          "base_uri": "https://localhost:8080/",
          "height": 35
        },
        "id": "uDcMzvoMPAS4",
        "outputId": "6ac9a485-2588-4e9c-fdef-5daa63b3f787"
      },
      "outputs": [
        {
          "output_type": "execute_result",
          "data": {
            "text/plain": [
              "'0.0000094734'"
            ],
            "application/vnd.google.colaboratory.intrinsic+json": {
              "type": "string"
            }
          },
          "metadata": {},
          "execution_count": 13
        }
      ],
      "source": [
        "# The number is quite low so that surely the rank of the data is equal to 0.\n",
        "\n",
        "format(np.exp(log), '.10f')"
      ]
    },
    {
      "cell_type": "code",
      "execution_count": 14,
      "metadata": {
        "colab": {
          "base_uri": "https://localhost:8080/"
        },
        "id": "NP-GgGZzRe7N",
        "outputId": "490c9bec-9d81-4d00-86c7-e06c01c81771"
      },
      "outputs": [
        {
          "output_type": "execute_result",
          "data": {
            "text/plain": [
              "array([0])"
            ]
          },
          "metadata": {},
          "execution_count": 14
        }
      ],
      "source": [
        "logistic.predict(testdf[['SAT']])"
      ]
    },
    {
      "cell_type": "markdown",
      "metadata": {
        "id": "uepQaC1fVt6f"
      },
      "source": [
        "## Confusion Matrix\n",
        "In order to know the reliability of the logistic regression model, it is possible to use the so-called **confusion matrix**."
      ]
    },
    {
      "cell_type": "code",
      "execution_count": 15,
      "metadata": {
        "colab": {
          "base_uri": "https://localhost:8080/"
        },
        "id": "BGUSXbDPWB9G",
        "outputId": "672d3444-924d-441d-a4ae-39e8f2cdfcda"
      },
      "outputs": [
        {
          "output_type": "stream",
          "name": "stdout",
          "text": [
            "╒══════════════╤════════════════╤════════════════╕\n",
            "│              │   Prediction 0 │   Prediction 1 │\n",
            "╞══════════════╪════════════════╪════════════════╡\n",
            "│ Prediction 0 │             67 │              7 │\n",
            "├──────────────┼────────────────┼────────────────┤\n",
            "│ Prediction 1 │              7 │             87 │\n",
            "╘══════════════╧════════════════╧════════════════╛\n"
          ]
        }
      ],
      "source": [
        "# Note that the model was able to predict 154 correctly and failed 14 times. The total is 168.\n",
        "\n",
        "from tabulate import tabulate\n",
        "\n",
        "conf = reg.pred_table()\n",
        "\n",
        "matrix = {'Prediction 0': conf[0], 'Prediction 1': conf[1]}\n",
        "\n",
        "print(tabulate(matrix, tablefmt='fancy_grid', headers=matrix.keys(), showindex=matrix.keys()))"
      ]
    },
    {
      "cell_type": "markdown",
      "metadata": {
        "id": "_hRGlU2exyZ0"
      },
      "source": [
        "### Statistics"
      ]
    },
    {
      "cell_type": "markdown",
      "metadata": {
        "id": "jRsl4v0YY4Sg"
      },
      "source": [
        "#### Accuracy\n",
        "This is one of the main metrics to find the percentage of successes of the model. This is found as follows:\n",
        "\n",
        "$$Accuracy = \\frac{\\text{Correct Predictions}}{Total}$$\n",
        "\n",
        "In the case of the example it is equal to:\n",
        "\n",
        "$$\\frac{154}{168} = 0.9167$$"
      ]
    },
    {
      "cell_type": "markdown",
      "metadata": {
        "id": "SDjEqNuRyQ5f"
      },
      "source": [
        "#### Missclassification\n",
        "This is another of the main metrics to find the percentage of failures of the model, it follows the following formula:\n",
        "\n",
        "$$Missclassification = \\frac{\\text{Wrong Predictions}}{Total}$$\n",
        "\n",
        "In this case the example would be equal to:\n",
        "\n",
        "$$\\frac{14}{168} = 0.083333333$$"
      ]
    },
    {
      "cell_type": "markdown",
      "metadata": {
        "id": "8hgst-2nznHT"
      },
      "source": [
        "#### Other statistics"
      ]
    },
    {
      "cell_type": "code",
      "execution_count": 16,
      "metadata": {
        "id": "J0jndQDqxnJ5"
      },
      "outputs": [],
      "source": [
        "# It is possible to obtain the most common statistics using sklearn's classification_report.\n",
        "\n",
        "from sklearn.metrics import classification_report"
      ]
    },
    {
      "cell_type": "markdown",
      "metadata": {
        "id": "BPnFCm_2dHxE"
      },
      "source": [
        "## Threshold\n",
        "\n",
        "There is an important detail when classifying the data, in general the model uses a **threshold(threshold)**, this is usually set at 50% but it is possible to use other thresholds, for which it is advisable to use the following text https://machinelearningmastery.com/threshold-moving-for-imbalanced-classification/."
      ]
    }
  ],
  "metadata": {
    "colab": {
      "provenance": [],
      "toc_visible": true
    },
    "kernelspec": {
      "display_name": "Python 3 (ipykernel)",
      "language": "python",
      "name": "python3"
    },
    "language_info": {
      "codemirror_mode": {
        "name": "ipython",
        "version": 3
      },
      "file_extension": ".py",
      "mimetype": "text/x-python",
      "name": "python",
      "nbconvert_exporter": "python",
      "pygments_lexer": "ipython3",
      "version": "3.9.13"
    }
  },
  "nbformat": 4,
  "nbformat_minor": 0
}